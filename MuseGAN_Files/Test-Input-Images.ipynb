{
 "cells": [
  {
   "cell_type": "code",
   "execution_count": 1,
   "id": "6bb904de",
   "metadata": {},
   "outputs": [
    {
     "name": "stdout",
     "output_type": "stream",
     "text": [
      "Collecting music21\n",
      "  Downloading music21-6.7.1.tar.gz (19.2 MB)\n",
      "     |████████████████████████████████| 19.2 MB 21.8 MB/s            \n",
      "\u001b[?25h  Preparing metadata (setup.py) ... \u001b[?25ldone\n",
      "\u001b[?25hRequirement already satisfied: chardet in /home/ec2-user/anaconda3/envs/python3/lib/python3.6/site-packages (from music21) (3.0.4)\n",
      "Requirement already satisfied: joblib in /home/ec2-user/anaconda3/envs/python3/lib/python3.6/site-packages (from music21) (1.0.1)\n",
      "Requirement already satisfied: more-itertools in /home/ec2-user/anaconda3/envs/python3/lib/python3.6/site-packages (from music21) (8.7.0)\n",
      "Collecting webcolors\n",
      "  Downloading webcolors-1.11.1-py3-none-any.whl (9.9 kB)\n",
      "Building wheels for collected packages: music21\n",
      "  Building wheel for music21 (setup.py) ... \u001b[?25ldone\n",
      "\u001b[?25h  Created wheel for music21: filename=music21-6.7.1-py3-none-any.whl size=21941692 sha256=563261a50747161352fd965a7e7ffed6f1ee4c31edf1ee002e4da312790ebe78\n",
      "  Stored in directory: /home/ec2-user/.cache/pip/wheels/66/b8/68/c374fb21ae1e0faea5b8bc7e537b8e89e91da904edc5c3e224\n",
      "Successfully built music21\n",
      "Installing collected packages: webcolors, music21\n",
      "Successfully installed music21-6.7.1 webcolors-1.11.1\n"
     ]
    }
   ],
   "source": [
    "!pip install music21"
   ]
  },
  {
   "cell_type": "code",
   "execution_count": 2,
   "id": "47895458",
   "metadata": {},
   "outputs": [],
   "source": [
    "from music21 import midi\n",
    "import os\n",
    "import numpy as np\n",
    "from PIL import Image"
   ]
  },
  {
   "cell_type": "markdown",
   "id": "6cf3e76a",
   "metadata": {},
   "source": [
    "# 1. Input song into midi2song, get image, then song again"
   ]
  },
  {
   "cell_type": "code",
   "execution_count": 3,
   "id": "2ed22b3c",
   "metadata": {},
   "outputs": [],
   "source": [
    "from music21 import converter, instrument, note, chord\n",
    "import sys\n",
    "import numpy as np\n",
    "from imageio import imwrite\n",
    "\n",
    "def extractNote(element):\n",
    "    return int(element.pitch.ps)\n",
    "\n",
    "def extractDuration(element):\n",
    "    return element.duration.quarterLength\n",
    "\n",
    "def get_notes(notes_to_parse):\n",
    "\n",
    "    \"\"\" Get all the notes and chords from the midi files in the ./midi_songs directory \"\"\"\n",
    "    durations = []\n",
    "    notes = []\n",
    "    start = []\n",
    "\n",
    "    for element in notes_to_parse:\n",
    "        if isinstance(element, note.Note):\n",
    "            if element.isRest:\n",
    "                continue\n",
    "\n",
    "            start.append(element.offset)\n",
    "            notes.append(extractNote(element))\n",
    "            durations.append(extractDuration(element))\n",
    "                \n",
    "        elif isinstance(element, chord.Chord):\n",
    "            if element.isRest:\n",
    "                continue\n",
    "            for chord_note in element.notes:\n",
    "                start.append(element.offset)\n",
    "                durations.append(extractDuration(element))\n",
    "                notes.append(extractNote(chord_note))\n",
    "\n",
    "    return {\"start\":start, \"pitch\":notes, \"dur\":durations}\n",
    "\n",
    "\n",
    "def midi2image(midi_path, max_repetitions = float(\"inf\"), resolution = 0.25, lowerBoundNote = 21, upperBoundNote = 127, maxSongLength = 100):\n",
    "    mid = converter.parse(midi_path)\n",
    "\n",
    "    instruments = instrument.partitionByInstrument(mid)\n",
    "\n",
    "    data = {}\n",
    "\n",
    "    try:\n",
    "        i=0\n",
    "        for instrument_i in instruments.parts:\n",
    "            notes_to_parse = instrument_i.recurse()\n",
    "\n",
    "            notes_data = get_notes(notes_to_parse)\n",
    "            if len(notes_data[\"start\"]) == 0:\n",
    "                continue\n",
    "\n",
    "            if instrument_i.partName is None:\n",
    "                data[\"instrument_{}\".format(i)] = notes_data\n",
    "                i+=1\n",
    "            else:\n",
    "                data[instrument_i.partName] = notes_data\n",
    "\n",
    "    except:\n",
    "        notes_to_parse = mid.flat.notes\n",
    "        data[\"instrument_0\"] = get_notes(notes_to_parse)\n",
    "\n",
    "    for instrument_name, values in data.items():\n",
    "        # https://en.wikipedia.org/wiki/Scientific_pitch_notation#Similar_systems\n",
    "\n",
    "        pitches = values[\"pitch\"]\n",
    "        durs = values[\"dur\"]\n",
    "        starts = values[\"start\"]\n",
    "\n",
    "        index = 0\n",
    "        while index < max_repetitions:\n",
    "            matrix = np.zeros((upperBoundNote-lowerBoundNote,maxSongLength))\n",
    "\n",
    "\n",
    "            for dur, start, pitch in zip(durs, starts, pitches):\n",
    "                dur = int(dur/resolution)\n",
    "                start = int(start/resolution)\n",
    "\n",
    "                if not start > index*(maxSongLength+1) or not dur+start < index*maxSongLength:\n",
    "                    for j in range(start,start+dur):\n",
    "                        if j - index*maxSongLength >= 0 and j - index*maxSongLength < maxSongLength:\n",
    "                            matrix[pitch-lowerBoundNote,j - index*maxSongLength] = 255\n",
    "\n",
    "            if matrix.any(): # If matrix contains no notes (only zeros) don't save it\n",
    "                imwrite(midi_path.split(\"/\")[-1].replace(\".mid\",f\"_{instrument_name}_{index}.png\"),matrix.astype(np.uint8))\n",
    "                index += 1\n",
    "            else:\n",
    "                break\n",
    "\n",
    "# if __name__ == \"__main__\":\n",
    "#     midi_path = sys.argv[1]\n",
    "#     print(midi_path)\n",
    "\n",
    "#     if len(sys.argv) >= 3:\n",
    "#         max_repetitions = int(sys.argv[2])\n",
    "#         midi2image(midi_path, max_repetitions)\n",
    "#     else:\n",
    "#         midi2image(midi_path)"
   ]
  },
  {
   "cell_type": "code",
   "execution_count": 5,
   "id": "05251b1a",
   "metadata": {},
   "outputs": [],
   "source": [
    "midi2image(os.getcwd() + '/classical-00000.mid')"
   ]
  },
  {
   "cell_type": "code",
   "execution_count": 8,
   "id": "5829c3a5",
   "metadata": {},
   "outputs": [],
   "source": [
    "image2midi(os.getcwd() + '/classical-00000_Piano_0.png')"
   ]
  },
  {
   "cell_type": "raw",
   "id": "48a28b8b",
   "metadata": {},
   "source": [
    "This one does sound good "
   ]
  },
  {
   "cell_type": "code",
   "execution_count": 34,
   "id": "13fd4cc9",
   "metadata": {},
   "outputs": [
    {
     "data": {
      "text/plain": [
       "(106, 106)"
      ]
     },
     "execution_count": 34,
     "metadata": {},
     "output_type": "execute_result"
    }
   ],
   "source": [
    "im = Image.open(os.getcwd() + '/classical-00000_Piano_0.png')\n",
    "im = im.resize((106, 106))\n",
    "im.size"
   ]
  },
  {
   "cell_type": "code",
   "execution_count": 35,
   "id": "b3c7a3e1",
   "metadata": {},
   "outputs": [
    {
     "data": {
      "image/png": "[encoded data removed]",
      "text/plain": [
       "<PIL.Image.Image image mode=L size=106x106 at 0x7FA0F40E3470>"
      ]
     },
     "execution_count": 35,
     "metadata": {},
     "output_type": "execute_result"
    }
   ],
   "source": [
    "im"
   ]
  },
  {
   "cell_type": "code",
   "execution_count": 36,
   "id": "35d3a02e",
   "metadata": {},
   "outputs": [
    {
     "data": {
      "text/plain": [
       "(106, 106)"
      ]
     },
     "execution_count": 36,
     "metadata": {},
     "output_type": "execute_result"
    }
   ],
   "source": [
    "im.size"
   ]
  },
  {
   "cell_type": "code",
   "execution_count": 37,
   "id": "640fce16",
   "metadata": {},
   "outputs": [
    {
     "data": {
      "image/png": "[encoded data removed]",
      "text/plain": [
       "<Figure size 432x288 with 1 Axes>"
      ]
     },
     "metadata": {
      "image/png": {
       "height": 251,
       "width": 257
      },
      "needs_background": "light"
     },
     "output_type": "display_data"
    }
   ],
   "source": [
    "import matplotlib.pyplot as plt \n",
    "\n",
    "plt.imshow(im);"
   ]
  },
  {
   "cell_type": "code",
   "execution_count": 39,
   "id": "5f233a3d",
   "metadata": {},
   "outputs": [
    {
     "data": {
      "text/plain": [
       "array([[ 0,  0,  0, ...,  0,  0, 38],\n",
       "       [ 0,  0,  0, ...,  0,  0,  0],\n",
       "       [ 0,  0,  0, ...,  0,  0,  0],\n",
       "       ...,\n",
       "       [ 0,  0,  0, ...,  0,  0,  0],\n",
       "       [ 0,  0,  0, ...,  0,  0,  0],\n",
       "       [ 0,  0,  0, ...,  0,  0,  0]])"
      ]
     },
     "execution_count": 39,
     "metadata": {},
     "output_type": "execute_result"
    }
   ],
   "source": [
    "np.array(im.getdata()).reshape((106, 106))[50:100, 0:50]"
   ]
  },
  {
   "cell_type": "code",
   "execution_count": 52,
   "id": "44015961",
   "metadata": {},
   "outputs": [
    {
     "data": {
      "text/plain": [
       "<matplotlib.image.AxesImage at 0x7fa1159f28d0>"
      ]
     },
     "execution_count": 52,
     "metadata": {},
     "output_type": "execute_result"
    },
    {
     "data": {
      "image/png": "[encoded data removed]",
      "text/plain": [
       "<Figure size 432x288 with 1 Axes>"
      ]
     },
     "metadata": {
      "image/png": {
       "height": 251,
       "width": 257
      },
      "needs_background": "light"
     },
     "output_type": "display_data"
    }
   ],
   "source": [
    "arr = np.array(im.getdata()).reshape(106, 106)\n",
    "\n",
    "# arr*= 255;\n",
    "\n",
    "new_image = Image.fromarray(arr, 'L')\n",
    "\n",
    "# plt.imshow(new_image)"
   ]
  },
  {
   "cell_type": "markdown",
   "id": "d6fa87bb",
   "metadata": {},
   "source": [
    "# 2. Input image to get song"
   ]
  },
  {
   "cell_type": "code",
   "execution_count": 23,
   "id": "ee132c4f",
   "metadata": {},
   "outputs": [
    {
     "name": "stdout",
     "output_type": "stream",
     "text": [
      "['classical00018.png', 'classical00017.png', 'classical00015.png', 'classical00070.png', 'classical00087.png', 'classical00044.png', 'classical00041.png', 'classical00079.png', 'classical00004.png', 'classical00064.png', 'classical00050.png', 'classical00030.png', 'classical00078.png', 'classical00038.png', 'classical00072.png', 'classical00060.png', 'classical00006.png', 'classical00083.png', 'classical00092.png', 'classical00048.png', 'classical00009.png', 'classical00090.png', 'classical00065.png', 'classical00042.png', 'classical00069.png', 'classical00047.png', 'classical00080.png', 'classical00053.png', 'classical00040.png', 'classical00033.png', 'classical00025.png', 'classical00071.png', 'classical00032.png', 'classical00054.png', 'classical00039.png', 'classical00063.png', 'classical00045.png', 'classical00046.png', 'classical00077.png', 'classical00052.png', 'classical00020.png', 'classical00067.png', 'classical00051.png', 'classical00096.png', 'classical00088.png', 'classical00084.png', 'classical00055.png', 'classical00014.png', 'classical00029.png', 'classical00081.png', 'classical00076.png', 'classical00012.png', 'classical00026.png', 'classical00097.png', 'classical00028.png', 'classical00027.png', 'classical00035.png', 'classical00003.png', 'classical00073.png', 'classical00023.png', 'classical00061.png', 'classical00019.png', 'classical00000.png', 'classical00095.png', 'classical00034.png', 'classical00075.png', 'classical00091.png', 'classical00085.png', 'classical00043.png', 'classical00089.png', 'classical00031.png', 'classical00007.png', 'classical00058.png', 'classical00093.png', 'classical00001.png', 'classical00099.png', 'classical00010.png', 'classical00016.png', 'classical00008.png', 'classical00094.png', 'classical00056.png', 'classical00013.png', 'classical00062.png', 'classical00036.png', 'classical00086.png', 'classical00074.png', 'classical00049.png', 'classical00022.png', 'classical00037.png', 'classical00024.png', 'classical00002.png', 'classical00021.png', 'classical00059.png', 'classical00011.png', 'classical00082.png', 'classical00098.png', 'classical00066.png', 'classical00005.png', 'classical00057.png', 'classical00068.png']\n"
     ]
    }
   ],
   "source": [
    "path = os.getcwd() + '/Image files/Classical - images'\n",
    "\n",
    "img_list = os.listdir(path)\n",
    "\n",
    "print(img_list)"
   ]
  },
  {
   "cell_type": "code",
   "execution_count": 68,
   "id": "7f2c34b9",
   "metadata": {},
   "outputs": [],
   "source": [
    "def access_images(img_list,path):\n",
    "    pixels = []\n",
    "    imgs = []\n",
    "    for i in range(len(img_list)):\n",
    "        if 'png' in img_list[i]:\n",
    "            try:\n",
    "                img = Image.open(path+'/'+img_list[i],'r')\n",
    "#                 img = img.convert('1')\n",
    "#                 print(img)\n",
    "                img = img.resize((106, 106)) # added by me (turns them into smaller images)\n",
    "                pix = np.array(img.getdata())\n",
    "#                 print(pix)\n",
    "                pix = pix.astype('float32')\n",
    "#                 pix /= 255.0\n",
    "                pixels.append(pix.reshape(106, 106, 4))\n",
    "                imgs.append(img)\n",
    "            except:\n",
    "                pass\n",
    "    return np.array(pixels),imgs"
   ]
  },
  {
   "cell_type": "code",
   "execution_count": 69,
   "id": "6f1e7d26",
   "metadata": {},
   "outputs": [],
   "source": [
    "def show_image(pix_list):\n",
    "    array = np.array(pix_list.reshape(106,106), dtype=np.uint8)\n",
    "    new_image = Image.fromarray(array)\n",
    "    new_image.show()"
   ]
  },
  {
   "cell_type": "code",
   "execution_count": 70,
   "id": "01bda05d",
   "metadata": {},
   "outputs": [],
   "source": [
    "pixels,imgs = access_images(img_list,path)"
   ]
  },
  {
   "cell_type": "code",
   "execution_count": 71,
   "id": "8b7ba309",
   "metadata": {},
   "outputs": [
    {
     "data": {
      "image/png": "[encoded data removed]",
      "text/plain": [
       "<PIL.Image.Image image mode=RGBA size=106x106 at 0x7F4FF6A64B00>"
      ]
     },
     "execution_count": 71,
     "metadata": {},
     "output_type": "execute_result"
    }
   ],
   "source": [
    "imgs[0]"
   ]
  },
  {
   "cell_type": "code",
   "execution_count": 75,
   "id": "59240247",
   "metadata": {},
   "outputs": [
    {
     "data": {
      "text/plain": [
       "PIL.Image.Image"
      ]
     },
     "execution_count": 75,
     "metadata": {},
     "output_type": "execute_result"
    }
   ],
   "source": [
    "type(imgs[0])"
   ]
  },
  {
   "cell_type": "code",
   "execution_count": 76,
   "id": "e7a6461a",
   "metadata": {},
   "outputs": [],
   "source": [
    "imgs[0].save('classical-0-test-to-midi.png')"
   ]
  },
  {
   "cell_type": "code",
   "execution_count": 73,
   "id": "38202607",
   "metadata": {},
   "outputs": [
    {
     "data": {
      "text/plain": [
       "(100, 106, 106, 4)"
      ]
     },
     "execution_count": 73,
     "metadata": {},
     "output_type": "execute_result"
    }
   ],
   "source": [
    "np.shape(pixels)"
   ]
  },
  {
   "cell_type": "code",
   "execution_count": 7,
   "id": "c96d0a1b",
   "metadata": {},
   "outputs": [],
   "source": [
    "from PIL import Image\n",
    "import numpy as np\n",
    "from music21 import instrument, note, chord, stream\n",
    "\n",
    "lowerBoundNote = 21\n",
    "def column2notes(column):\n",
    "    notes = []\n",
    "    for i in range(len(column)):\n",
    "        if column[i] > 255/2:\n",
    "            notes.append(i+lowerBoundNote)\n",
    "    return notes\n",
    "\n",
    "resolution = 0.25\n",
    "def updateNotes(newNotes,prevNotes): \n",
    "    res = {} \n",
    "    for note in newNotes:\n",
    "        if note in prevNotes:\n",
    "            res[note] = prevNotes[note] + resolution\n",
    "        else:\n",
    "            res[note] = resolution\n",
    "    return res\n",
    "\n",
    "def image2midi(image_path):\n",
    "    with Image.open(image_path) as image:\n",
    "        im_arr = np.frombuffer(image.tobytes(), dtype=np.uint8)\n",
    "        try:\n",
    "            im_arr = im_arr.reshape((image.size[1], image.size[0]))\n",
    "        except:\n",
    "            im_arr = im_arr.reshape((image.size[1], image.size[0],3))\n",
    "            im_arr = np.dot(im_arr, [0.33, 0.33, 0.33])\n",
    "\n",
    "    \"\"\" convert the output from the prediction to notes and create a midi file\n",
    "        from the notes \"\"\"\n",
    "    offset = 0\n",
    "    output_notes = []\n",
    "\n",
    "    # create note and chord objects based on the values generated by the model\n",
    "\n",
    "    prev_notes = updateNotes(im_arr.T[0,:],{})\n",
    "    for column in im_arr.T[1:,:]:\n",
    "        notes = column2notes(column)\n",
    "        # pattern is a chord\n",
    "        notes_in_chord = notes\n",
    "        old_notes = prev_notes.keys()\n",
    "        for old_note in old_notes:\n",
    "            if not old_note in notes_in_chord:\n",
    "                new_note = note.Note(old_note,quarterLength=prev_notes[old_note])\n",
    "                new_note.storedInstrument = instrument.Piano()\n",
    "                if offset - prev_notes[old_note] >= 0:\n",
    "                    new_note.offset = offset - prev_notes[old_note]\n",
    "                    output_notes.append(new_note)\n",
    "                elif offset == 0:\n",
    "                    new_note.offset = offset\n",
    "                    output_notes.append(new_note)                    \n",
    "                else:\n",
    "                    print(offset,prev_notes[old_note],old_note)\n",
    "\n",
    "        prev_notes = updateNotes(notes_in_chord,prev_notes)\n",
    "\n",
    "        # increase offset each iteration so that notes do not stack\n",
    "        offset += resolution\n",
    "\n",
    "    for old_note in prev_notes.keys():\n",
    "        new_note = note.Note(old_note,quarterLength=prev_notes[old_note])\n",
    "        new_note.storedInstrument = instrument.Piano()\n",
    "        new_note.offset = offset - prev_notes[old_note]\n",
    "\n",
    "        output_notes.append(new_note)\n",
    "\n",
    "    prev_notes = updateNotes(notes_in_chord,prev_notes)\n",
    "\n",
    "    midi_stream = stream.Stream(output_notes)\n",
    "\n",
    "    midi_stream.write('midi', fp=image_path.split(\"/\")[-1].replace(\".png\",\".mid\"))"
   ]
  },
  {
   "cell_type": "code",
   "execution_count": 80,
   "id": "6920e6e4",
   "metadata": {},
   "outputs": [
    {
     "data": {
      "text/plain": [
       "(106, 106, 4)"
      ]
     },
     "execution_count": 80,
     "metadata": {},
     "output_type": "execute_result"
    }
   ],
   "source": [
    "np.shape(pixels[0])"
   ]
  },
  {
   "cell_type": "code",
   "execution_count": 85,
   "id": "88cedd92",
   "metadata": {},
   "outputs": [
    {
     "data": {
      "text/plain": [
       "(106, 106, 3)"
      ]
     },
     "execution_count": 85,
     "metadata": {},
     "output_type": "execute_result"
    }
   ],
   "source": [
    "z = imgs[0].convert('RGB'); \n",
    "arr = np.array(z.getdata()).reshape(106, 106, 3); \n",
    "np.shape(arr)"
   ]
  },
  {
   "cell_type": "code",
   "execution_count": 86,
   "id": "ce4126e5",
   "metadata": {},
   "outputs": [],
   "source": [
    "z.save('classical-0-test-to-midi.png')"
   ]
  },
  {
   "cell_type": "code",
   "execution_count": 81,
   "id": "34f42f5c",
   "metadata": {},
   "outputs": [
    {
     "data": {
      "text/plain": [
       "array([[[255., 255., 255., 255.],\n",
       "        [255., 255., 255., 255.],\n",
       "        [255., 255., 255., 255.],\n",
       "        ...,\n",
       "        [255., 255., 255., 255.],\n",
       "        [255., 255., 255., 255.],\n",
       "        [255., 255., 255., 255.]],\n",
       "\n",
       "       [[255., 255., 255., 255.],\n",
       "        [255., 255., 255., 255.],\n",
       "        [255., 255., 255., 255.],\n",
       "        ...,\n",
       "        [255., 255., 255., 255.],\n",
       "        [255., 255., 255., 255.],\n",
       "        [255., 255., 255., 255.]],\n",
       "\n",
       "       [[255., 255., 255., 255.],\n",
       "        [255., 255., 255., 255.],\n",
       "        [255., 255., 255., 255.],\n",
       "        ...,\n",
       "        [255., 255., 255., 255.],\n",
       "        [255., 255., 255., 255.],\n",
       "        [255., 255., 255., 255.]],\n",
       "\n",
       "       ...,\n",
       "\n",
       "       [[255., 255., 255., 255.],\n",
       "        [255., 255., 255., 255.],\n",
       "        [255., 255., 255., 255.],\n",
       "        ...,\n",
       "        [255., 255., 255., 255.],\n",
       "        [255., 255., 255., 255.],\n",
       "        [255., 255., 255., 255.]],\n",
       "\n",
       "       [[255., 255., 255., 255.],\n",
       "        [255., 255., 255., 255.],\n",
       "        [255., 255., 255., 255.],\n",
       "        ...,\n",
       "        [255., 255., 255., 255.],\n",
       "        [255., 255., 255., 255.],\n",
       "        [255., 255., 255., 255.]],\n",
       "\n",
       "       [[255., 255., 255., 255.],\n",
       "        [255., 255., 255., 255.],\n",
       "        [255., 255., 255., 255.],\n",
       "        ...,\n",
       "        [255., 255., 255., 255.],\n",
       "        [255., 255., 255., 255.],\n",
       "        [255., 255., 255., 255.]]], dtype=float32)"
      ]
     },
     "execution_count": 81,
     "metadata": {},
     "output_type": "execute_result"
    }
   ],
   "source": [
    "pixels[0]"
   ]
  },
  {
   "cell_type": "code",
   "execution_count": 87,
   "id": "b7ff147c",
   "metadata": {},
   "outputs": [],
   "source": [
    "image2midi(os.getcwd() + '/classical-0-test-to-midi.png')"
   ]
  },
  {
   "cell_type": "raw",
   "id": "c5d72450",
   "metadata": {},
   "source": [
    "Results are terrible!"
   ]
  },
  {
   "cell_type": "code",
   "execution_count": null,
   "id": "1e35457d",
   "metadata": {},
   "outputs": [],
   "source": []
  }
 ],
 "metadata": {
  "kernelspec": {
   "display_name": "conda_python3",
   "language": "python",
   "name": "conda_python3"
  },
  "language_info": {
   "codemirror_mode": {
    "name": "ipython",
    "version": 3
   },
   "file_extension": ".py",
   "mimetype": "text/x-python",
   "name": "python",
   "nbconvert_exporter": "python",
   "pygments_lexer": "ipython3",
   "version": "3.6.13"
  }
 },
 "nbformat": 4,
 "nbformat_minor": 5
}
