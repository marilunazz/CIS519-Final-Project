{
 "cells": [
  {
   "cell_type": "raw",
   "id": "49b52470",
   "metadata": {},
   "source": [
    "V1 - comparing with original images \n",
    "\n",
    "Folder with outputs: 04-16-photo-input-Classical-Music-Outputs/04_16_attempt_1_classical_music_10_epochs_OutputNumber_0.png\n",
    "\n",
    "Source: https://medium.com/@datamonsters/a-quick-overview-of-methods-to-measure-the-similarity-between-images-f907166694ee\n",
    "\n",
    "MSE is the most traditional estimator \n",
    "\n",
    "Methodology: \n",
    "\n",
    "Will measure average mse similarity of outputs to all genres and determine which one it is closest to "
   ]
  },
  {
   "cell_type": "code",
   "execution_count": 1,
   "id": "03cadf83",
   "metadata": {},
   "outputs": [],
   "source": [
    "import os\n",
    "import numpy as np\n",
    "from PIL import Image\n",
    "from sklearn.metrics import mean_squared_error"
   ]
  },
  {
   "cell_type": "code",
   "execution_count": 2,
   "id": "32979f3e",
   "metadata": {},
   "outputs": [],
   "source": [
    "def get_pixels(path, get_list = False): \n",
    "    \n",
    "    if get_list: \n",
    "        img_list = [path + i for i in os.listdir(path)]\n",
    "    else: \n",
    "        img_list = [path + str(i) + '.png' for i in range(10)]\n",
    "\n",
    "\n",
    "    pixels = []\n",
    "    for i in range(len(img_list)):\n",
    "        try:\n",
    "            img = Image.open(img_list[i],'r')\n",
    "            img = img.convert('1')\n",
    "            img = img.resize((106, 106)) # added by me (turns them into smaller images)\n",
    "            pix = np.array(img.getdata())\n",
    "            pix = pix.astype('float32')\n",
    "            pix /= 255.0\n",
    "            pixels.append(pix.reshape(106, 106, 1))\n",
    "        except:\n",
    "            pass\n",
    "\n",
    "    return pixels"
   ]
  },
  {
   "cell_type": "code",
   "execution_count": 3,
   "id": "d157117a",
   "metadata": {},
   "outputs": [],
   "source": [
    "def get_mse(out_list, original_imgs): \n",
    "    mse_scores = []\n",
    "    for pic in out_list: \n",
    "        mse_temp = []\n",
    "        for original in original_imgs: \n",
    "            mse_temp.append(mean_squared_error(pic[:, :, 0], original[:, :, 0])); \n",
    "        mse_scores.append(np.mean(mse_temp)); \n",
    "    return mse_scores"
   ]
  },
  {
   "cell_type": "raw",
   "id": "55247df7",
   "metadata": {},
   "source": [
    "V1 - First Model "
   ]
  },
  {
   "cell_type": "code",
   "execution_count": 4,
   "id": "b5ffedc1",
   "metadata": {},
   "outputs": [],
   "source": [
    "classical_out_pixels = get_pixels(os.getcwd() + \\\n",
    "'/04-16-photo-input-Classical-Music-Outputs/04_16_attempt_1_classical_music_10_epochs_OutputNumber_')\n",
    "\n",
    "rock_out_pixels = get_pixels(os.getcwd() + \\\n",
    "'/04-16-photo-input-Rock?-Music-Outputs/04_16_attempt_1_classical_music_10_epochs_OutputNumber_')\n",
    "\n",
    "jazz_out_pixels = get_pixels(os.getcwd() + \\\n",
    "'/04-16-photo-input-Jazz-Music-Outputs/04_16_attempt_1_jazz_music_15_epochs_OutputNumber_')\n",
    "\n",
    "classical_input_pixels = get_pixels(os.getcwd() + '/0.Other/Image files/Classical - images/', True)\n",
    "rock_input_pixels = get_pixels(os.getcwd() + '/0.Other/Image files/Rock - images/', True)\n",
    "jazz_input_pixels = get_pixels(os.getcwd() + '/0.Other/Image files/Jazz - Images/', True)\n"
   ]
  },
  {
   "cell_type": "code",
   "execution_count": 5,
   "id": "5ca89920",
   "metadata": {},
   "outputs": [],
   "source": [
    "classical_v1_average_mse_classical = np.mean(get_mse(classical_out_pixels, classical_input_pixels))\n",
    "classical_v1_average_mse_rock = np.mean(get_mse(classical_out_pixels, rock_input_pixels))\n",
    "classical_v1_average_mse_jazz = np.mean(get_mse(classical_out_pixels, jazz_input_pixels))"
   ]
  },
  {
   "cell_type": "code",
   "execution_count": 6,
   "id": "c56838a5",
   "metadata": {},
   "outputs": [
    {
     "name": "stdout",
     "output_type": "stream",
     "text": [
      "Classical model with respect to original CLASSICAL images = 0.12590548\n",
      "Classical model with respect to original ROCK images = 0.15589426\n",
      "Classical model with respect to original JAZZ images = 0.1293758\n"
     ]
    }
   ],
   "source": [
    "print(\"Classical model with respect to original CLASSICAL images = \" +\\\n",
    "      str(classical_v1_average_mse_classical))\n",
    "print(\"Classical model with respect to original ROCK images = \" +\\\n",
    "      str(classical_v1_average_mse_rock))\n",
    "print(\"Classical model with respect to original JAZZ images = \" +\\\n",
    "      str(classical_v1_average_mse_jazz))"
   ]
  },
  {
   "cell_type": "code",
   "execution_count": 7,
   "id": "7b1436d7",
   "metadata": {},
   "outputs": [],
   "source": [
    "jazz_v1_average_mse_classical = np.mean(get_mse(jazz_out_pixels, classical_input_pixels))\n",
    "jazz_v1_average_mse_rock = np.mean(get_mse(jazz_out_pixels, rock_input_pixels))\n",
    "jazz_v1_average_mse_jazz = np.mean(get_mse(jazz_out_pixels, jazz_input_pixels))"
   ]
  },
  {
   "cell_type": "code",
   "execution_count": 8,
   "id": "861f9393",
   "metadata": {},
   "outputs": [
    {
     "name": "stdout",
     "output_type": "stream",
     "text": [
      "Jazz model with respect to original CLASSICAL images = 0.14569953\n",
      "Jazz model with respect to original ROCK images = 0.17607084\n",
      "Jazz model with respect to original JAZZ images = 0.14927146\n"
     ]
    }
   ],
   "source": [
    "print(\"Jazz model with respect to original CLASSICAL images = \" +\\\n",
    "      str(jazz_v1_average_mse_classical))\n",
    "print(\"Jazz model with respect to original ROCK images = \" +\\\n",
    "      str(jazz_v1_average_mse_rock))\n",
    "print(\"Jazz model with respect to original JAZZ images = \" +\\\n",
    "      str(jazz_v1_average_mse_jazz))"
   ]
  },
  {
   "cell_type": "code",
   "execution_count": 9,
   "id": "0eb3d974",
   "metadata": {},
   "outputs": [],
   "source": [
    "rock_v1_average_mse_classical = np.mean(get_mse(rock_out_pixels, classical_input_pixels))\n",
    "rock_v1_average_mse_rock = np.mean(get_mse(rock_out_pixels, rock_input_pixels))\n",
    "rock_v1_average_mse_jazz = np.mean(get_mse(rock_out_pixels, jazz_input_pixels))"
   ]
  },
  {
   "cell_type": "code",
   "execution_count": 10,
   "id": "c7c644fc",
   "metadata": {},
   "outputs": [
    {
     "name": "stdout",
     "output_type": "stream",
     "text": [
      "Rock model with respect to original CLASSICAL images = 0.16907474\n",
      "Rock model with respect to original ROCK images = 0.19320844\n",
      "Rock model with respect to original JAZZ images = 0.1711839\n"
     ]
    }
   ],
   "source": [
    "print(\"Rock model with respect to original CLASSICAL images = \" +\\\n",
    "      str(rock_v1_average_mse_classical))\n",
    "print(\"Rock model with respect to original ROCK images = \" +\\\n",
    "      str(rock_v1_average_mse_rock))\n",
    "print(\"Rock model with respect to original JAZZ images = \" +\\\n",
    "      str(rock_v1_average_mse_jazz))"
   ]
  },
  {
   "cell_type": "raw",
   "id": "752e5428",
   "metadata": {},
   "source": [
    "V2 - Second model"
   ]
  },
  {
   "cell_type": "code",
   "execution_count": 11,
   "id": "64e9ee1a",
   "metadata": {},
   "outputs": [],
   "source": [
    "classical_out_pixels = get_pixels(os.getcwd() + \\\n",
    "'/04-18-song-input-Classical/04_18_attempt_2_classical_music_input_are_transformed_songs_10_epochs_OutputNumber_')\n",
    "\n",
    "rock_out_pixels = get_pixels(os.getcwd() + \\\n",
    "'/04-18-song-input-Rock/04_18_attempt_2_rock_music_input_are_transformed_songs_10_epochs_OutputNumber_')\n",
    "\n",
    "jazz_out_pixels = get_pixels(os.getcwd() + \\\n",
    "'/04-18-song-input-jazz/04_18_attempt_2_jazz_music_input_are_transformed_songs_10_epochs_OutputNumber_')\n",
    "\n",
    "classical_input_pixels = get_pixels(os.getcwd() + '/Classical-Images/', True)\n",
    "rock_input_pixels = get_pixels(os.getcwd() + '/Rock-Images/', True)\n",
    "jazz_input_pixels = get_pixels(os.getcwd() + '/Jazz-Images/', True)\n"
   ]
  },
  {
   "cell_type": "code",
   "execution_count": 12,
   "id": "662e7520",
   "metadata": {},
   "outputs": [],
   "source": [
    "classical_v2_average_mse_classical = np.mean(get_mse(classical_out_pixels, classical_input_pixels))\n",
    "classical_v2_average_mse_rock = np.mean(get_mse(classical_out_pixels, rock_input_pixels))\n",
    "classical_v2_average_mse_jazz = np.mean(get_mse(classical_out_pixels, jazz_input_pixels))"
   ]
  },
  {
   "cell_type": "code",
   "execution_count": 13,
   "id": "7861b5d8",
   "metadata": {},
   "outputs": [
    {
     "name": "stdout",
     "output_type": "stream",
     "text": [
      "Classical model with respect to original CLASSICAL images = 0.07697279\n",
      "Classical model with respect to original ROCK images = 0.13616012\n",
      "Classical model with respect to original JAZZ images = 0.08215152\n"
     ]
    }
   ],
   "source": [
    "print(\"Classical model with respect to original CLASSICAL images = \" +\\\n",
    "      str(classical_v2_average_mse_classical))\n",
    "print(\"Classical model with respect to original ROCK images = \" +\\\n",
    "      str(classical_v2_average_mse_rock))\n",
    "print(\"Classical model with respect to original JAZZ images = \" +\\\n",
    "      str(classical_v2_average_mse_jazz))"
   ]
  },
  {
   "cell_type": "code",
   "execution_count": 14,
   "id": "bac41104",
   "metadata": {},
   "outputs": [],
   "source": [
    "jazz_v2_average_mse_classical = np.mean(get_mse(jazz_out_pixels, classical_input_pixels))\n",
    "jazz_v2_average_mse_rock = np.mean(get_mse(jazz_out_pixels, rock_input_pixels))\n",
    "jazz_v2_average_mse_jazz = np.mean(get_mse(jazz_out_pixels, jazz_input_pixels))"
   ]
  },
  {
   "cell_type": "code",
   "execution_count": 15,
   "id": "4b2c6390",
   "metadata": {},
   "outputs": [
    {
     "name": "stdout",
     "output_type": "stream",
     "text": [
      "Jazz model with respect to original CLASSICAL images = 0.07942662\n",
      "Jazz model with respect to original ROCK images = 0.14024498\n",
      "Jazz model with respect to original JAZZ images = 0.08364996\n"
     ]
    }
   ],
   "source": [
    "print(\"Jazz model with respect to original CLASSICAL images = \" +\\\n",
    "      str(jazz_v2_average_mse_classical))\n",
    "print(\"Jazz model with respect to original ROCK images = \" +\\\n",
    "      str(jazz_v2_average_mse_rock))\n",
    "print(\"Jazz model with respect to original JAZZ images = \" +\\\n",
    "      str(jazz_v2_average_mse_jazz))"
   ]
  },
  {
   "cell_type": "code",
   "execution_count": 16,
   "id": "aacbab9e",
   "metadata": {},
   "outputs": [],
   "source": [
    "rock_v2_average_mse_classical = np.mean(get_mse(rock_out_pixels, classical_input_pixels))\n",
    "rock_v2_average_mse_rock = np.mean(get_mse(rock_out_pixels, rock_input_pixels))\n",
    "rock_v2_average_mse_jazz = np.mean(get_mse(rock_out_pixels, jazz_input_pixels))"
   ]
  },
  {
   "cell_type": "code",
   "execution_count": 17,
   "id": "ce12b60e",
   "metadata": {},
   "outputs": [
    {
     "name": "stdout",
     "output_type": "stream",
     "text": [
      "Rock model with respect to original CLASSICAL images = 0.073416136\n",
      "Rock model with respect to original ROCK images = 0.13398632\n",
      "Rock model with respect to original JAZZ images = 0.07845868\n"
     ]
    }
   ],
   "source": [
    "print(\"Rock model with respect to original CLASSICAL images = \" +\\\n",
    "      str(rock_v2_average_mse_classical))\n",
    "print(\"Rock model with respect to original ROCK images = \" +\\\n",
    "      str(rock_v2_average_mse_rock))\n",
    "print(\"Rock model with respect to original JAZZ images = \" +\\\n",
    "      str(rock_v2_average_mse_jazz))"
   ]
  },
  {
   "cell_type": "raw",
   "id": "d06d8cb3",
   "metadata": {},
   "source": [
    "V3 - Last Model"
   ]
  },
  {
   "cell_type": "code",
   "execution_count": 18,
   "id": "b86c4cc5",
   "metadata": {},
   "outputs": [],
   "source": [
    "classical_out_pixels = get_pixels(os.getcwd() + \\\n",
    "'/04-21-classical-overfit-models and outputs/04_21_attempt_3_classical_music_overfit_OutputNumber_')\n",
    "\n",
    "rock_out_pixels = get_pixels(os.getcwd() + \\\n",
    "'/04-21-rock-overfit-in-outputs/04_21_attempt_3_rock_overfit_OutputNumber_')\n",
    "\n",
    "jazz_out_pixels = get_pixels(os.getcwd() + \\\n",
    "'/04-21-Jazz-v3-overfit-fail/04_21_attempt_3_jazz_overfit_OutputNumber_')\n",
    "\n",
    "classical_input_pixels = get_pixels(os.getcwd() + '/Classical-Images/', True)\n",
    "rock_input_pixels = get_pixels(os.getcwd() + '/Rock-Images/', True)\n",
    "jazz_input_pixels = get_pixels(os.getcwd() + '/Jazz-Images/', True)\n"
   ]
  },
  {
   "cell_type": "code",
   "execution_count": 19,
   "id": "a1864194",
   "metadata": {},
   "outputs": [],
   "source": [
    "classical_v3_average_mse_classical = np.mean(get_mse(classical_out_pixels, classical_input_pixels))\n",
    "classical_v3_average_mse_rock = np.mean(get_mse(classical_out_pixels, rock_input_pixels))\n",
    "classical_v3_average_mse_jazz = np.mean(get_mse(classical_out_pixels, jazz_input_pixels))"
   ]
  },
  {
   "cell_type": "code",
   "execution_count": 20,
   "id": "df534a7f",
   "metadata": {},
   "outputs": [
    {
     "name": "stdout",
     "output_type": "stream",
     "text": [
      "Classical model with respect to original CLASSICAL images = 0.03126163\n",
      "Classical model with respect to original ROCK images = 0.10278471\n",
      "Classical model with respect to original JAZZ images = 0.037081014\n"
     ]
    }
   ],
   "source": [
    "print(\"Classical model with respect to original CLASSICAL images = \" +\\\n",
    "      str(classical_v3_average_mse_classical))\n",
    "print(\"Classical model with respect to original ROCK images = \" +\\\n",
    "      str(classical_v3_average_mse_rock))\n",
    "print(\"Classical model with respect to original JAZZ images = \" +\\\n",
    "      str(classical_v3_average_mse_jazz))"
   ]
  },
  {
   "cell_type": "code",
   "execution_count": 21,
   "id": "785081ed",
   "metadata": {},
   "outputs": [],
   "source": [
    "jazz_v3_average_mse_classical = np.mean(get_mse(jazz_out_pixels, classical_input_pixels))\n",
    "jazz_v3_average_mse_rock = np.mean(get_mse(jazz_out_pixels, rock_input_pixels))\n",
    "jazz_v3_average_mse_jazz = np.mean(get_mse(jazz_out_pixels, jazz_input_pixels))"
   ]
  },
  {
   "cell_type": "code",
   "execution_count": 22,
   "id": "44dcc53f",
   "metadata": {},
   "outputs": [
    {
     "name": "stdout",
     "output_type": "stream",
     "text": [
      "Jazz model with respect to original CLASSICAL images = 0.03126163\n",
      "Jazz model with respect to original ROCK images = 0.10278471\n",
      "Jazz model with respect to original JAZZ images = 0.037081014\n"
     ]
    }
   ],
   "source": [
    "print(\"Jazz model with respect to original CLASSICAL images = \" +\\\n",
    "      str(jazz_v3_average_mse_classical))\n",
    "print(\"Jazz model with respect to original ROCK images = \" +\\\n",
    "      str(jazz_v3_average_mse_rock))\n",
    "print(\"Jazz model with respect to original JAZZ images = \" +\\\n",
    "      str(jazz_v3_average_mse_jazz))"
   ]
  },
  {
   "cell_type": "code",
   "execution_count": 23,
   "id": "0cba886b",
   "metadata": {},
   "outputs": [],
   "source": [
    "rock_v3_average_mse_classical = np.mean(get_mse(rock_out_pixels, classical_input_pixels))\n",
    "rock_v3_average_mse_rock = np.mean(get_mse(rock_out_pixels, rock_input_pixels))\n",
    "rock_v3_average_mse_jazz = np.mean(get_mse(rock_out_pixels, jazz_input_pixels))"
   ]
  },
  {
   "cell_type": "code",
   "execution_count": 24,
   "id": "3adcd9ed",
   "metadata": {},
   "outputs": [
    {
     "name": "stdout",
     "output_type": "stream",
     "text": [
      "Rock model with respect to original CLASSICAL images = 0.06843305\n",
      "Rock model with respect to original ROCK images = 0.1323935\n",
      "Rock model with respect to original JAZZ images = 0.07367281\n"
     ]
    }
   ],
   "source": [
    "print(\"Rock model with respect to original CLASSICAL images = \" +\\\n",
    "      str(rock_v3_average_mse_classical))\n",
    "print(\"Rock model with respect to original ROCK images = \" +\\\n",
    "      str(rock_v3_average_mse_rock))\n",
    "print(\"Rock model with respect to original JAZZ images = \" +\\\n",
    "      str(rock_v3_average_mse_jazz))"
   ]
  },
  {
   "cell_type": "code",
   "execution_count": null,
   "id": "480aff9b",
   "metadata": {},
   "outputs": [],
   "source": []
  }
 ],
 "metadata": {
  "kernelspec": {
   "display_name": "conda_python3",
   "language": "python",
   "name": "conda_python3"
  },
  "language_info": {
   "codemirror_mode": {
    "name": "ipython",
    "version": 3
   },
   "file_extension": ".py",
   "mimetype": "text/x-python",
   "name": "python",
   "nbconvert_exporter": "python",
   "pygments_lexer": "ipython3",
   "version": "3.6.13"
  }
 },
 "nbformat": 4,
 "nbformat_minor": 5
}
